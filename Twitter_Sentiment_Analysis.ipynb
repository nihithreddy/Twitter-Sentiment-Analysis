{
  "nbformat": 4,
  "nbformat_minor": 0,
  "metadata": {
    "colab": {
      "name": "Copy of Sentiment-Analysis.ipynb",
      "version": "0.3.2",
      "provenance": [],
      "include_colab_link": true
    },
    "kernelspec": {
      "name": "python3",
      "display_name": "Python 3"
    },
    "accelerator": "TPU"
  },
  "cells": [
    {
      "cell_type": "markdown",
      "metadata": {
        "id": "view-in-github",
        "colab_type": "text"
      },
      "source": [
        "<a href=\"https://colab.research.google.com/github/nihithreddy/Twitter-Sentiment-Analysis/blob/master/Twitter_Sentiment_Analysis.ipynb\" target=\"_parent\"><img src=\"https://colab.research.google.com/assets/colab-badge.svg\" alt=\"Open In Colab\"/></a>"
      ]
    },
    {
      "cell_type": "code",
      "metadata": {
        "id": "fVFETteSq7BL",
        "colab_type": "code",
        "colab": {}
      },
      "source": [
        "!pip install pandas\n",
        "!pip install tweepy\n",
        "!pip install vaderSentiment\n",
        "!pip install twython"
      ],
      "execution_count": 0,
      "outputs": []
    },
    {
      "cell_type": "code",
      "metadata": {
        "id": "hkAdC3TP_X-l",
        "colab_type": "code",
        "colab": {}
      },
      "source": [
        "import tweepy\n",
        "import pandas as pd\n",
        "from nltk.sentiment.vader import SentimentIntensityAnalyzer"
      ],
      "execution_count": 0,
      "outputs": []
    },
    {
      "cell_type": "code",
      "metadata": {
        "id": "BZ8u81LaALDP",
        "colab_type": "code",
        "colab": {}
      },
      "source": [
        "#My Twitter API Authentication Variables\n",
        "consumer_key=''\n",
        "consumer_secret=''\n",
        "access_token=''\n",
        "access_token_secret=''"
      ],
      "execution_count": 0,
      "outputs": []
    },
    {
      "cell_type": "code",
      "metadata": {
        "id": "6UVLEfzMAm8p",
        "colab_type": "code",
        "outputId": "8806d7b4-5f77-429f-e686-151e4837cab8",
        "colab": {
          "base_uri": "https://localhost:8080/",
          "height": 360
        }
      },
      "source": [
        "auth=tweepy.OAuthHandler(consumer_key,consumer_secret)\n",
        "auth.set_access_token(access_token,access_token_secret)\n",
        "\n",
        "api=tweepy.API(auth)\n",
        "\n",
        "tweets=api.search('Artificial Intelligence',count=200)\n",
        "\n",
        "data=pd.DataFrame(data=[tweet.text for tweet in tweets],columns=['Tweets'])\n",
        "\n",
        "display(data.head(10))\n",
        "\n",
        "print(tweets[0].created_at)\n"
      ],
      "execution_count": 0,
      "outputs": [
        {
          "output_type": "display_data",
          "data": {
            "text/html": [
              "<div>\n",
              "<style scoped>\n",
              "    .dataframe tbody tr th:only-of-type {\n",
              "        vertical-align: middle;\n",
              "    }\n",
              "\n",
              "    .dataframe tbody tr th {\n",
              "        vertical-align: top;\n",
              "    }\n",
              "\n",
              "    .dataframe thead th {\n",
              "        text-align: right;\n",
              "    }\n",
              "</style>\n",
              "<table border=\"1\" class=\"dataframe\">\n",
              "  <thead>\n",
              "    <tr style=\"text-align: right;\">\n",
              "      <th></th>\n",
              "      <th>Tweets</th>\n",
              "    </tr>\n",
              "  </thead>\n",
              "  <tbody>\n",
              "    <tr>\n",
              "      <th>0</th>\n",
              "      <td>RT @royalsociety: Alan Turing FRS, the mathema...</td>\n",
              "    </tr>\n",
              "    <tr>\n",
              "      <th>1</th>\n",
              "      <td>The term \"artificial intelligence\" first emerg...</td>\n",
              "    </tr>\n",
              "    <tr>\n",
              "      <th>2</th>\n",
              "      <td>RT @madhumita29: Can academics ignore the real...</td>\n",
              "    </tr>\n",
              "    <tr>\n",
              "      <th>3</th>\n",
              "      <td>RT @royalsociety: Alan Turing FRS, the mathema...</td>\n",
              "    </tr>\n",
              "    <tr>\n",
              "      <th>4</th>\n",
              "      <td>New AI could spot early signs of brain disease...</td>\n",
              "    </tr>\n",
              "    <tr>\n",
              "      <th>5</th>\n",
              "      <td>RT @stormtrooper92_: 10 Filem Mind blowing\\n\\n...</td>\n",
              "    </tr>\n",
              "    <tr>\n",
              "      <th>6</th>\n",
              "      <td>RT @ipfconline1: Three Practical Ways to Think...</td>\n",
              "    </tr>\n",
              "    <tr>\n",
              "      <th>7</th>\n",
              "      <td>RT @SwissCognitive: Scientists at @RITNEWS are...</td>\n",
              "    </tr>\n",
              "    <tr>\n",
              "      <th>8</th>\n",
              "      <td>RT @StackOverflow: We chatted with @Intuit's C...</td>\n",
              "    </tr>\n",
              "    <tr>\n",
              "      <th>9</th>\n",
              "      <td>RT @ipfconline1: Three Practical Ways to Think...</td>\n",
              "    </tr>\n",
              "  </tbody>\n",
              "</table>\n",
              "</div>"
            ],
            "text/plain": [
              "                                              Tweets\n",
              "0  RT @royalsociety: Alan Turing FRS, the mathema...\n",
              "1  The term \"artificial intelligence\" first emerg...\n",
              "2  RT @madhumita29: Can academics ignore the real...\n",
              "3  RT @royalsociety: Alan Turing FRS, the mathema...\n",
              "4  New AI could spot early signs of brain disease...\n",
              "5  RT @stormtrooper92_: 10 Filem Mind blowing\\n\\n...\n",
              "6  RT @ipfconline1: Three Practical Ways to Think...\n",
              "7  RT @SwissCognitive: Scientists at @RITNEWS are...\n",
              "8  RT @StackOverflow: We chatted with @Intuit's C...\n",
              "9  RT @ipfconline1: Three Practical Ways to Think..."
            ]
          },
          "metadata": {
            "tags": []
          }
        },
        {
          "output_type": "stream",
          "text": [
            "2019-06-23 12:53:00\n"
          ],
          "name": "stdout"
        }
      ]
    },
    {
      "cell_type": "code",
      "metadata": {
        "id": "KjiIYRvs_O5f",
        "colab_type": "code",
        "outputId": "efd4de06-a105-4ada-e93e-5d22e35425ae",
        "colab": {
          "base_uri": "https://localhost:8080/",
          "height": 50
        }
      },
      "source": [
        "import nltk\n",
        "nltk.download('vader_lexicon')"
      ],
      "execution_count": 0,
      "outputs": [
        {
          "output_type": "stream",
          "text": [
            "[nltk_data] Downloading package vader_lexicon to /root/nltk_data...\n"
          ],
          "name": "stdout"
        },
        {
          "output_type": "execute_result",
          "data": {
            "text/plain": [
              "True"
            ]
          },
          "metadata": {
            "tags": []
          },
          "execution_count": 12
        }
      ]
    },
    {
      "cell_type": "code",
      "metadata": {
        "id": "JHL9buxmZtRp",
        "colab_type": "code",
        "outputId": "46f237a4-f6e6-4124-9474-bbf7f962e964",
        "colab": {
          "base_uri": "https://localhost:8080/",
          "height": 1092
        }
      },
      "source": [
        "sid=SentimentIntensityAnalyzer()\n",
        "\n",
        "listy=[]#For Storing Polarities\n",
        "for index,row in data.iterrows():\n",
        "  ss=sid.polarity_scores(row['Tweets'])\n",
        "  listy.append(ss)\n",
        "\n",
        "#Converting a list into pandas Series\n",
        "se=pd.Series(listy)\n",
        "data['polarity']=se.values\n",
        "print(data.head(100))"
      ],
      "execution_count": 0,
      "outputs": [
        {
          "output_type": "stream",
          "text": [
            "                                               Tweets                                           polarity\n",
            "0   RT @royalsociety: Alan Turing FRS, the mathema...  {'neg': 0.0, 'neu': 0.853, 'pos': 0.147, 'comp...\n",
            "1   The term \"artificial intelligence\" first emerg...  {'neg': 0.0, 'neu': 0.866, 'pos': 0.134, 'comp...\n",
            "2   RT @madhumita29: Can academics ignore the real...  {'neg': 0.221, 'neu': 0.659, 'pos': 0.12, 'com...\n",
            "3   RT @royalsociety: Alan Turing FRS, the mathema...  {'neg': 0.0, 'neu': 0.853, 'pos': 0.147, 'comp...\n",
            "4   New AI could spot early signs of brain disease...  {'neg': 0.0, 'neu': 1.0, 'pos': 0.0, 'compound...\n",
            "5   RT @stormtrooper92_: 10 Filem Mind blowing\\n\\n...  {'neg': 0.0, 'neu': 1.0, 'pos': 0.0, 'compound...\n",
            "6   RT @ipfconline1: Three Practical Ways to Think...  {'neg': 0.0, 'neu': 0.838, 'pos': 0.162, 'comp...\n",
            "7   RT @SwissCognitive: Scientists at @RITNEWS are...  {'neg': 0.0, 'neu': 1.0, 'pos': 0.0, 'compound...\n",
            "8   RT @StackOverflow: We chatted with @Intuit's C...  {'neg': 0.0, 'neu': 0.874, 'pos': 0.126, 'comp...\n",
            "9   RT @ipfconline1: Three Practical Ways to Think...  {'neg': 0.0, 'neu': 0.838, 'pos': 0.162, 'comp...\n",
            "10  RT @ubuntu: Are you ready to adopt Artificial ...  {'neg': 0.0, 'neu': 0.751, 'pos': 0.249, 'comp...\n",
            "11  RT @LostInFilm: ‘A Clockwork Orange’ (1971, St...  {'neg': 0.0, 'neu': 1.0, 'pos': 0.0, 'compound...\n",
            "12  RT @Martin_Dempsey: This date in 1912, Alan Tu...  {'neg': 0.0, 'neu': 0.871, 'pos': 0.129, 'comp...\n",
            "13  RT @royalsociety: Alan Turing FRS, the mathema...  {'neg': 0.0, 'neu': 0.853, 'pos': 0.147, 'comp...\n",
            "14  RT @raven_protocol: Wow, we are honored to be ...  {'neg': 0.0, 'neu': 0.512, 'pos': 0.488, 'comp...\n",
            "15  RT @ubuntu: Are you ready to adopt Artificial ...  {'neg': 0.0, 'neu': 0.751, 'pos': 0.249, 'comp...\n",
            "16  RT @Ted_Underwood: Our world is really being t...  {'neg': 0.0, 'neu': 1.0, 'pos': 0.0, 'compound...\n",
            "17  RT @royalsociety: Alan Turing FRS, the mathema...  {'neg': 0.0, 'neu': 0.853, 'pos': 0.147, 'comp...\n",
            "18  via @RichardEudes - Observations on Cloud and ...  {'neg': 0.0, 'neu': 0.795, 'pos': 0.205, 'comp...\n",
            "19  RT @LostInFilm: ‘A Clockwork Orange’ (1971, St...  {'neg': 0.0, 'neu': 1.0, 'pos': 0.0, 'compound...\n",
            "20  via @RichardEudes - 7 Types Of Artificial Inte...  {'neg': 0.0, 'neu': 0.744, 'pos': 0.256, 'comp...\n",
            "21  #AI in #Fashion #Retail\\nAs this #NewTechnolog...  {'neg': 0.0, 'neu': 0.837, 'pos': 0.163, 'comp...\n",
            "22  RT @raven_protocol: Wow, we are honored to be ...  {'neg': 0.0, 'neu': 0.512, 'pos': 0.488, 'comp...\n",
            "23  #Cybersecurity is a promising area for #AI and...  {'neg': 0.0, 'neu': 0.911, 'pos': 0.089, 'comp...\n",
            "24  RT @royalsociety: Alan Turing FRS, the mathema...  {'neg': 0.0, 'neu': 0.853, 'pos': 0.147, 'comp...\n",
            "25  RT @CSISFreeman: ICYMI Watch Senior Adviser @K...  {'neg': 0.0, 'neu': 1.0, 'pos': 0.0, 'compound...\n",
            "26  RT @raven_protocol: Wow, we are honored to be ...  {'neg': 0.0, 'neu': 0.512, 'pos': 0.488, 'comp...\n",
            "27  فيزا تحبط عمليات احتيال بـ25 مليار دولار بـ #ا...  {'neg': 0.0, 'neu': 1.0, 'pos': 0.0, 'compound...\n",
            "28  حوار ال artificial intelligence ده يا جماعه مُ...  {'neg': 0.0, 'neu': 0.866, 'pos': 0.134, 'comp...\n",
            "29  RT @raven_protocol: Wow, we are honored to be ...  {'neg': 0.0, 'neu': 0.512, 'pos': 0.488, 'comp...\n",
            "..                                                ...                                                ...\n",
            "63  RT @royalsociety: Alan Turing FRS, the mathema...  {'neg': 0.0, 'neu': 0.853, 'pos': 0.147, 'comp...\n",
            "64  RT @raven_protocol: Wow, we are honored to be ...  {'neg': 0.0, 'neu': 0.512, 'pos': 0.488, 'comp...\n",
            "65  RT @raven_protocol: Wow, we are honored to be ...  {'neg': 0.0, 'neu': 0.512, 'pos': 0.488, 'comp...\n",
            "66  RT @UiPath: UiPath CEO @danieldines on AI, job...  {'neg': 0.0, 'neu': 0.88, 'pos': 0.12, 'compou...\n",
            "67  RT @mirko_ross: 🔭 Great Post by @grattonboy:\\n...  {'neg': 0.0, 'neu': 0.745, 'pos': 0.255, 'comp...\n",
            "68  RT @ubuntu: Are you ready to adopt Artificial ...  {'neg': 0.0, 'neu': 0.751, 'pos': 0.249, 'comp...\n",
            "69  RT @Martin_Dempsey: This date in 1912, Alan Tu...  {'neg': 0.0, 'neu': 0.871, 'pos': 0.129, 'comp...\n",
            "70  RT @AnalyticsFr: via @RichardEudes - Observati...  {'neg': 0.0, 'neu': 0.819, 'pos': 0.181, 'comp...\n",
            "71  RT @AnalyticsFr: via @RichardEudes - 7 Types O...  {'neg': 0.0, 'neu': 0.744, 'pos': 0.256, 'comp...\n",
            "72  RT @_OliviaBot: RT @netguru: 🤖 Check out our l...  {'neg': 0.0, 'neu': 1.0, 'pos': 0.0, 'compound...\n",
            "73  RT @netguru: 🤖 Check out our latest #MachineLe...  {'neg': 0.0, 'neu': 1.0, 'pos': 0.0, 'compound...\n",
            "74  RT @pierrepinna: How Does Artificial Intellige...  {'neg': 0.0, 'neu': 0.829, 'pos': 0.171, 'comp...\n",
            "75  You can now leverage the latest advancements i...  {'neg': 0.0, 'neu': 0.853, 'pos': 0.147, 'comp...\n",
            "76  Top story: How does artificial intelligence ad...  {'neg': 0.0, 'neu': 0.71, 'pos': 0.29, 'compou...\n",
            "77  RT @raven_protocol: Wow, we are honored to be ...  {'neg': 0.0, 'neu': 0.512, 'pos': 0.488, 'comp...\n",
            "78  RT @Martin_Dempsey: This date in 1912, Alan Tu...  {'neg': 0.0, 'neu': 0.871, 'pos': 0.129, 'comp...\n",
            "79  via @RichardEudes - Observations on Cloud and ...  {'neg': 0.0, 'neu': 0.795, 'pos': 0.205, 'comp...\n",
            "80  via @RichardEudes - 7 Types Of Artificial Inte...  {'neg': 0.0, 'neu': 0.744, 'pos': 0.256, 'comp...\n",
            "81  RT @raven_protocol: Wow, we are honored to be ...  {'neg': 0.0, 'neu': 0.512, 'pos': 0.488, 'comp...\n",
            "82  RT @raven_protocol: Wow, we are honored to be ...  {'neg': 0.0, 'neu': 0.512, 'pos': 0.488, 'comp...\n",
            "83  RT @netguru: 🤖 Check out our latest #MachineLe...  {'neg': 0.0, 'neu': 0.826, 'pos': 0.174, 'comp...\n",
            "84  Because of  robots  and artificial intelligenc...  {'neg': 0.134, 'neu': 0.718, 'pos': 0.148, 'co...\n",
            "85  Top story: How does artificial intelligence ad...  {'neg': 0.0, 'neu': 0.71, 'pos': 0.29, 'compou...\n",
            "86  RT @subschneider: If the rest of the energy se...  {'neg': 0.0, 'neu': 0.923, 'pos': 0.077, 'comp...\n",
            "87  Giving a speech about Artificial Intelligence ...  {'neg': 0.0, 'neu': 0.732, 'pos': 0.268, 'comp...\n",
            "88  @FirstToLastPod Probably hereditary, irreversi...  {'neg': 0.09, 'neu': 0.603, 'pos': 0.307, 'com...\n",
            "89  RT @callin_bull: “For the last few years, star...  {'neg': 0.112, 'neu': 0.888, 'pos': 0.0, 'comp...\n",
            "90  RT @royalsociety: Alan Turing FRS, the mathema...  {'neg': 0.0, 'neu': 0.853, 'pos': 0.147, 'comp...\n",
            "91  RT @raven_protocol: Wow, we are honored to be ...  {'neg': 0.0, 'neu': 0.512, 'pos': 0.488, 'comp...\n",
            "92  RT @Ted_Underwood: Our world is really being t...  {'neg': 0.0, 'neu': 1.0, 'pos': 0.0, 'compound...\n",
            "\n",
            "[93 rows x 2 columns]\n"
          ],
          "name": "stdout"
        }
      ]
    }
  ]
}